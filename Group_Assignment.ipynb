{
 "cells": [
  {
   "cell_type": "markdown",
   "metadata": {},
   "source": [
    "# Submission Group Assignment Network Science HS22\n",
    "\n",
    "Participants:\n",
    "\n",
    "    Alexander Christian Lerch, 17-678-111\n",
    "    Diego Ricardo Bugman, 18-472-548\n",
    "    Szymon Kaczmarski, 21-743-778      "
   ]
  },
  {
   "cell_type": "markdown",
   "metadata": {},
   "source": [
    "### LIBRARIES & DATASET"
   ]
  },
  {
   "cell_type": "code",
   "execution_count": 20,
   "metadata": {},
   "outputs": [],
   "source": [
    "#import the packages needed\n",
    "import networkx as nx\n",
    "import matplotlib.pyplot as plt\n",
    "import numpy as np\n",
    "import scipy.stats as sp\n",
    "import networkx.algorithms.community as nxcom\n",
    "from matplotlib import colors as mcolors\n",
    "import powerlaw\n",
    "from scipy.special import factorial\n",
    "import pandas as pd\n",
    "from tabulate import tabulate\n",
    "import time\n",
    "import ndlib.models.ModelConfig as mc\n",
    "import ndlib.models.epidemics as ep\n",
    "from tqdm import tqdm"
   ]
  },
  {
   "cell_type": "code",
   "execution_count": 22,
   "metadata": {},
   "outputs": [
    {
     "name": "stdout",
     "output_type": "stream",
     "text": [
      "dataset//DE//musae_DE_edges.csv  :  Graph with 9498 nodes and 153138 edges\n",
      "dataset//ENGB//musae_ENGB_edges.csv  :  Graph with 7126 nodes and 35324 edges\n"
     ]
    }
   ],
   "source": [
    "# PATH DE\n",
    "PATH_TWITCH_DE = 'dataset//DE//musae_DE_edges.csv'\n",
    "# DATASET DE\n",
    "with open(PATH_TWITCH_DE, 'rb') as twitch:\n",
    "    next(twitch, '')   # skip a line\n",
    "    G_TWITCH_DE = nx.read_edgelist(twitch, delimiter=',', create_using=nx.Graph(), nodetype=int, encoding=\"utf-8\")\n",
    "print(PATH_TWITCH_DE, ' : ', G_TWITCH_DE)\n",
    "# print(\"Number of nodes: \", G_TWITCH.number_of_nodes())\n",
    "# print(\"Number of edges: \", G_TWITCH_DE.number_of_edges())\n",
    "\n",
    "\n",
    "# PATH EN\n",
    "PATH_TWITCH = 'dataset//ENGB//musae_ENGB_edges.csv'\n",
    "# DATASET EN\n",
    "with open(PATH_TWITCH, 'rb') as twitch:\n",
    "    next(twitch, '')   # skip a line\n",
    "    G_TWITCH = nx.read_edgelist(twitch, delimiter=',', create_using=nx.Graph(), nodetype=int, encoding=\"utf-8\")\n",
    "print(PATH_TWITCH, ' : ', G_TWITCH)\n",
    "# print(\"Number of nodes: \", G_TWITCH.number_of_nodes())\n",
    "# print(\"Number of edges: \", G_TWITCH.number_of_edges())"
   ]
  },
  {
   "cell_type": "code",
   "execution_count": 23,
   "metadata": {},
   "outputs": [],
   "source": [
    "# PATH DE\n",
    "# PATH_TWITCH_FEATURES = 'dataset//DE//musae_DE_target.csv'\n",
    "# PATH EN\n",
    "PATH_TWITCH_FEATURES = 'dataset//ENGB//musae_ENGB_target.csv'\n",
    "\n",
    "# READ FEATURES INTO DF\n",
    "df_twitch_features = pd.read_csv(PATH_TWITCH_FEATURES, sep=',', header=0, index_col=0)"
   ]
  },
  {
   "cell_type": "markdown",
   "metadata": {},
   "source": [
    "# ALGORITHMS"
   ]
  },
  {
   "cell_type": "code",
   "execution_count": 14,
   "metadata": {},
   "outputs": [],
   "source": [
    "def hindex_for_node(g, n): \n",
    "    sorted_neighbor_degrees = sorted((g.degree(v) for v in g.neighbors(n)), reverse=True) \n",
    "    h = 0 \n",
    "    for i in range(1, len(sorted_neighbor_degrees)+1): \n",
    "        if sorted_neighbor_degrees[i-1] < i: \n",
    "            break \n",
    "        h = i \n",
    "    return h \n",
    "\n",
    "def hindex(g): \n",
    "    hindex_list = [] \n",
    "    n = g.number_of_nodes()\n",
    "    for n in g.nodes(): \n",
    "        hindex_list.append(hindex_for_node(g, n)) \n",
    "    return hindex_list"
   ]
  },
  {
   "cell_type": "code",
   "execution_count": null,
   "metadata": {},
   "outputs": [],
   "source": [
    "# pagerank(G, alpha=0.85, personalization=None, max_iter=100, tol=1e-06, nstart=None, weight='weight', dangling=None) \n",
    "# eigenvector_centrality(G, max_iter=100, tol=1e-06, nstart=None, weight=None) \n",
    "# k_shell(G, k=None, core_number=None) – returns the k-shell subgraph "
   ]
  },
  {
   "cell_type": "code",
   "execution_count": 17,
   "metadata": {},
   "outputs": [
    {
     "name": "stderr",
     "output_type": "stream",
     "text": [
      "Processing Betweenness Centrality:  25%|██▌       | 2/8 [00:10<00:31,  5.20s/it]\n"
     ]
    }
   ],
   "source": [
    "algorithms_names = ['Degree Centrality', 'K-Shell', 'Betweenness Centrality', 'Voterank', 'Pagerank', 'Closeness Centrality', 'Eigenvector Centrality', 'H-Index']\n",
    "pbar = tqdm(total=len(algorithms_names))\n",
    "results = []\n",
    "st = time.time()\n",
    "pbar.set_description(\"Processing %s\" % algorithms_names[0])\n",
    "results.append(nx.degree_centrality(G_TWITCH_DE))\n",
    "pbar.update(1)\n",
    "pbar.set_description(\"Processing %s\" % algorithms_names[1])\n",
    "results.append(nx.k_shell(G_TWITCH_DE))\n",
    "pbar.update(1)\n",
    "pbar.set_description(\"Processing %s\" % algorithms_names[2])\n",
    "results.append(nx.betweenness_centrality(G_TWITCH_DE))\n",
    "pbar.update(1)\n",
    "pbar.set_description(\"Processing %s\" % algorithms_names[3])\n",
    "results.append(nx.voterank(G_TWITCH_DE))\n",
    "pbar.update(1)\n",
    "pbar.set_description(\"Processing %s\" % algorithms_names[4])\n",
    "results.append(nx.pagerank(G_TWITCH, max_iter=100, tol=1e-06))\n",
    "pbar.update(1)\n",
    "pbar.set_description(\"Processing %s\" % algorithms_names[5])\n",
    "results.append(nx.closeness_centrality(G_TWITCH_DE))\n",
    "pbar.update(1)\n",
    "pbar.set_description(\"Processing %s\" % algorithms_names[6])\n",
    "results.append(nx.eigenvector_centrality(G_TWITCH_DE))\n",
    "pbar.update(1)\n",
    "pbar.set_description(\"Processing %s\" % algorithms_names[7])\n",
    "results.append(hindex(G_TWITCH_DE))\n",
    "pbar.update(1)\n",
    "pbar.close()\n",
    "print(\"Minutes elapsed: \", (time.time() - st)/60)"
   ]
  },
  {
   "cell_type": "code",
   "execution_count": 24,
   "metadata": {},
   "outputs": [],
   "source": [
    "# method to calculate the infected scale\n",
    "def get_infected_scale(infected, recovered, total):\n",
    "    return (infected + recovered) / total\n",
    "\n",
    "# method to plot values\n",
    "def plot_values(x, y):\n",
    "    plt.plot(x, y)\n",
    "    plt.ylabel(\"F(t)\")\n",
    "    plt.xlabel(\"t\")\n",
    "    plt.show()\n"
   ]
  },
  {
   "cell_type": "code",
   "execution_count": 25,
   "metadata": {},
   "outputs": [],
   "source": [
    "# method to simulate a model\n",
    "def simulate(network, beta, gamma, p, num_of_simulations=100, num_of_t=200, show_bar=True):\n",
    "\n",
    "    # ---------- Model Configuration ----------\n",
    "    model = ep.SIRModel(network)\n",
    "    n = network.number_of_nodes()\n",
    "    cfg = mc.Configuration()\n",
    "    cfg.add_model_parameter('beta', beta) # INFECTION PROBABILITY\n",
    "    cfg.add_model_parameter('gamma', gamma) # RECOVERY PROBABILITY\n",
    "    cfg.add_model_parameter(\"fraction_infected\", p)   # TODO REMOVE\n",
    "\n",
    "    # -------------------------------------------------------\n",
    "    # TODO : Selection of initial nodes based on algorithms\n",
    "    # infected_nodes = []\n",
    "    # cfg.add_model_initial_configuration(\"Infected\", infected_nodes)\n",
    "    # -------------------------------------------------------\n",
    "\n",
    "    model.set_initial_status(cfg)\n",
    "\n",
    "\n",
    "    # ---------- Simulation ----------\n",
    "    \n",
    "    # execute the simulations and save them in a list\n",
    "    simulations = []\n",
    "    for i in range(num_of_simulations):\n",
    "        model.reset() # reset so that each simulation starts from scratch\n",
    "        simulation = model.iteration_bunch(num_of_t, progress_bar=show_bar)\n",
    "        simulations.append(simulation)\n",
    "\n",
    "    x = list(range(num_of_t))\n",
    "    y = []\n",
    "\n",
    "    # average out the infected / recovered for each step, calculate the infected_scale and save it to a list\n",
    "    for i in range(num_of_t):\n",
    "        infected = np.mean([simulation[i]['node_count'][1] for simulation in simulations]) # get the mean for each step\n",
    "        recovered = np.mean([simulation[i]['node_count'][2] for simulation in simulations]) # get the mean for each step\n",
    "        # calculate F(t) and add it to the y-values\n",
    "        infected_scale_value = get_infected_scale(infected, recovered, n)\n",
    "        y.append(infected_scale_value)\n",
    "    \n",
    "    return x, y\n"
   ]
  },
  {
   "cell_type": "code",
   "execution_count": 26,
   "metadata": {},
   "outputs": [
    {
     "name": "stderr",
     "output_type": "stream",
     "text": [
      "100%|██████████████████████████████████████████████████████████████████████████████████| 200/200 [00:03<00:00, 62.63it/s]\n",
      "100%|██████████████████████████████████████████████████████████████████████████████████| 200/200 [00:03<00:00, 53.92it/s]\n",
      "100%|██████████████████████████████████████████████████████████████████████████████████| 200/200 [00:04<00:00, 49.43it/s]\n",
      "100%|██████████████████████████████████████████████████████████████████████████████████| 200/200 [00:04<00:00, 49.76it/s]\n",
      "100%|██████████████████████████████████████████████████████████████████████████████████| 200/200 [00:02<00:00, 68.26it/s]\n",
      "100%|██████████████████████████████████████████████████████████████████████████████████| 200/200 [00:03<00:00, 64.30it/s]\n",
      "100%|██████████████████████████████████████████████████████████████████████████████████| 200/200 [00:04<00:00, 41.45it/s]\n",
      "100%|██████████████████████████████████████████████████████████████████████████████████| 200/200 [00:04<00:00, 44.69it/s]\n",
      "100%|██████████████████████████████████████████████████████████████████████████████████| 200/200 [00:02<00:00, 66.76it/s]\n",
      "100%|██████████████████████████████████████████████████████████████████████████████████| 200/200 [00:03<00:00, 56.63it/s]\n"
     ]
    },
    {
     "data": {
      "image/png": "[encoded data removed]",
      "text/plain": [
       "<Figure size 432x288 with 1 Axes>"
      ]
     },
     "metadata": {
      "needs_background": "light"
     },
     "output_type": "display_data"
    }
   ],
   "source": [
    "# ---------- Simulate ----------\n",
    "x, y = simulate(G_TWITCH, beta=0.01, gamma=0.2, p=0.01, num_of_simulations=10)\n",
    "\n",
    "# ---------- Plot the values ----------\n",
    "plot_values(x, y)"
   ]
  },
  {
   "cell_type": "code",
   "execution_count": null,
   "metadata": {},
   "outputs": [],
   "source": []
  },
  {
   "cell_type": "code",
   "execution_count": null,
   "metadata": {},
   "outputs": [],
   "source": []
  },
  {
   "cell_type": "code",
   "execution_count": 27,
   "metadata": {},
   "outputs": [
    {
     "name": "stdout",
     "output_type": "stream",
     "text": [
      "<k>: 27.696969696969695\n",
      "bth = 0.026566678293221718\n",
      "beta = 1.5 * bth = 0.039850017439832575\n",
      "gamma = beta / lambda (1.25) = 0.03188001395186606\n",
      "p = 0.02\n"
     ]
    },
    {
     "data": {
      "image/png": "[encoded data removed]",
      "text/plain": [
       "<Figure size 432x288 with 1 Axes>"
      ]
     },
     "metadata": {
      "needs_background": "light"
     },
     "output_type": "display_data"
    },
    {
     "name": "stdout",
     "output_type": "stream",
     "text": [
      "COMPARE PLOT TO TABLE 10 IN PAPER [2]\n"
     ]
    }
   ],
   "source": [
    "# -------------------- SECTION DIFFERENT DATASETS --------------------\n",
    "\n",
    "# !!!!! uncomment the one you want to use and then run !!!!!\n",
    "\n",
    "# ---------- FACEBOOK ----------\n",
    "# G = nx.read_gml(\"dataset/graph_facebook.gml\")\n",
    "\n",
    "\n",
    "# ---------- JAZZ ----------\n",
    "G = nx.read_gml(\"dataset/graph_jazz_collab.gml\")\n",
    "\n",
    "\n",
    "# ---------- DOLPHINS ----------\n",
    "# G = nx.read_gml(\"dataset/graph_dolphins.gml\")\n",
    "\n",
    "\n",
    "\n",
    "n = G.number_of_nodes()\n",
    "degrees = [v for k,v in G.degree()]\n",
    "avg_sqrd_degrees = np.mean([d**2 for d in degrees])\n",
    "\n",
    "\n",
    "# -------------------- Calculate some numbers in order to get the same parameters as in paper [2] --------------------\n",
    "avg_degree = np.mean(degrees)\n",
    "print(\"<k>: \"+str(avg_degree))\n",
    "bth = avg_degree / (avg_sqrd_degrees - avg_degree)        # [2] PAGE 7 (formula for bth) / PAGE 10 table 4 (value for bth)\n",
    "beta = 1.5 * bth                                          # [2] PAGE 7 (formula for beta)\n",
    "lamb = 1.25                                               # [2] PAGE 11 figure 2 (ratio infection prob / recovery prob)\n",
    "p = 0.02                                                  # [2] PAGE 11 figure 2\n",
    "print(\"bth = \"+str(bth))\n",
    "print(\"beta = 1.5 * bth = \"+str(beta))\n",
    "gamma = beta / lamb                                       # [2] PAGE 7 (formula for beta)\n",
    "print(\"gamma = beta / lambda (1.25) = \"+str(gamma))       # [2] PAGE 11 figure 2: Use ratio of 1.25\n",
    "print(\"p = \"+str(p))\n",
    "\n",
    "\n",
    "# ---------- Simulate ----------\n",
    "x, y = simulate(G, beta=beta, gamma=gamma, p=p, num_of_simulations=20, num_of_t=100, show_bar=False)\n",
    "\n",
    "# ---------- Plot the values ----------\n",
    "plot_values(x, y)\n",
    "print(\"COMPARE PLOT TO TABLE 10 IN PAPER [2]\")"
   ]
  }
 ],
 "metadata": {
  "kernelspec": {
   "display_name": "Python 3 (ipykernel)",
   "language": "python",
   "name": "python3"
  },
  "language_info": {
   "codemirror_mode": {
    "name": "ipython",
    "version": 3
   },
   "file_extension": ".py",
   "mimetype": "text/x-python",
   "name": "python",
   "nbconvert_exporter": "python",
   "pygments_lexer": "ipython3",
   "version": "3.8.12"
  },
  "vscode": {
   "interpreter": {
    "hash": "a7470ae86e57d468cb848d5b5b62a40a84e08338f855f2d63a3dbd376099e19e"
   }
  }
 },
 "nbformat": 4,
 "nbformat_minor": 4
}
