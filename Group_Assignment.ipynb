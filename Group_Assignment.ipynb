{
 "cells": [
  {
   "cell_type": "markdown",
   "metadata": {},
   "source": [
    "# Submission Group Assignment Network Science HS22\n",
    "\n",
    "Participants:\n",
    "\n",
    "    Alexander Christian Lerch, 17-678-111\n",
    "    Diego Ricardo Bugman, 18-472-548\n",
    "    Szymon Kaczmarski, 21-743-778      "
   ]
  },
  {
   "cell_type": "markdown",
   "metadata": {},
   "source": [
    "### LIBRARIES & DATASET"
   ]
  },
  {
   "cell_type": "code",
   "execution_count": 1,
   "metadata": {},
   "outputs": [],
   "source": [
    "#import the packages needed\n",
    "import networkx as nx\n",
    "import matplotlib.pyplot as plt\n",
    "import numpy as np\n",
    "import scipy.stats as sp\n",
    "import networkx.algorithms.community as nxcom\n",
    "from matplotlib import colors as mcolors\n",
    "import powerlaw\n",
    "from scipy.special import factorial\n",
    "import pandas as pd\n",
    "from tabulate import tabulate\n",
    "import time"
   ]
  },
  {
   "cell_type": "code",
   "execution_count": 11,
   "metadata": {},
   "outputs": [
    {
     "name": "stdout",
     "output_type": "stream",
     "text": [
      "Number of nodes:  9498\n",
      "Number of edges:  153138\n"
     ]
    }
   ],
   "source": [
    "# PATH\n",
    "PATH_TWITCH_DE = 'dataset2//DE//musae_DE_edges.csv'\n",
    "PATH_TWITCH_BIG = 'dataset//large_twitch_edges.csv'\n",
    "\n",
    "# DATASET\n",
    "with open(PATH_TWITCH_DE, 'rb') as twitch:\n",
    "    next(twitch, '')   # skip a line\n",
    "    G_TWITCH = nx.read_edgelist(twitch, delimiter=',', create_using=nx.Graph(), nodetype=int, encoding=\"utf-8\")\n",
    "print(\"Number of nodes: \", G_TWITCH.number_of_nodes())\n",
    "print(\"Number of edges: \", G_TWITCH.number_of_edges())"
   ]
  },
  {
   "cell_type": "markdown",
   "metadata": {},
   "source": [
    "# TESTING "
   ]
  },
  {
   "cell_type": "code",
   "execution_count": 4,
   "metadata": {},
   "outputs": [
    {
     "ename": "KeyboardInterrupt",
     "evalue": "",
     "output_type": "error",
     "traceback": [
      "\u001b[1;31m---------------------------------------------------------------------------\u001b[0m",
      "\u001b[1;31mKeyboardInterrupt\u001b[0m                         Traceback (most recent call last)",
      "\u001b[1;32mc:\\Users\\szymo\\Desktop\\Network_Science\\Group_Assignment.ipynb Komórka 11\u001b[0m in \u001b[0;36m<cell line: 6>\u001b[1;34m()\u001b[0m\n\u001b[0;32m      <a href='vscode-notebook-cell:/c%3A/Users/szymo/Desktop/Network_Science/Group_Assignment.ipynb#X13sZmlsZQ%3D%3D?line=2'>3</a>\u001b[0m results \u001b[39m=\u001b[39m []\n\u001b[0;32m      <a href='vscode-notebook-cell:/c%3A/Users/szymo/Desktop/Network_Science/Group_Assignment.ipynb#X13sZmlsZQ%3D%3D?line=3'>4</a>\u001b[0m \u001b[39m# phi = (1 + np.sqrt(5)) / 2.0  \u001b[39;00m\n\u001b[0;32m      <a href='vscode-notebook-cell:/c%3A/Users/szymo/Desktop/Network_Science/Group_Assignment.ipynb#X13sZmlsZQ%3D%3D?line=4'>5</a>\u001b[0m \u001b[39m# results.append(nx.katz_centrality(G_TWITCH, 1 / phi - 0.01))\u001b[39;00m\n\u001b[1;32m----> <a href='vscode-notebook-cell:/c%3A/Users/szymo/Desktop/Network_Science/Group_Assignment.ipynb#X13sZmlsZQ%3D%3D?line=5'>6</a>\u001b[0m results\u001b[39m.\u001b[39mappend(nx\u001b[39m.\u001b[39;49mvoterank(G_TWITCH))\n\u001b[0;32m      <a href='vscode-notebook-cell:/c%3A/Users/szymo/Desktop/Network_Science/Group_Assignment.ipynb#X13sZmlsZQ%3D%3D?line=6'>7</a>\u001b[0m \u001b[39mprint\u001b[39m(\u001b[39m\"\u001b[39m\u001b[39mMinutes elapsed: \u001b[39m\u001b[39m\"\u001b[39m, (time\u001b[39m.\u001b[39mtime() \u001b[39m-\u001b[39m st)\u001b[39m/\u001b[39m\u001b[39m60\u001b[39m)\n\u001b[0;32m      <a href='vscode-notebook-cell:/c%3A/Users/szymo/Desktop/Network_Science/Group_Assignment.ipynb#X13sZmlsZQ%3D%3D?line=7'>8</a>\u001b[0m results\u001b[39m.\u001b[39mappend(nx\u001b[39m.\u001b[39mpagerank(G_TWITCH, max_iter\u001b[39m=\u001b[39m\u001b[39m100\u001b[39m, tol\u001b[39m=\u001b[39m\u001b[39m1e-06\u001b[39m))\n",
      "File \u001b[1;32mc:\\Users\\szymo\\miniconda3\\envs\\DL\\lib\\site-packages\\networkx\\algorithms\\centrality\\voterank_alg.py:78\u001b[0m, in \u001b[0;36mvoterank\u001b[1;34m(G, number_of_nodes)\u001b[0m\n\u001b[0;32m     76\u001b[0m     vote_rank[n][\u001b[39m0\u001b[39m] \u001b[39m+\u001b[39m\u001b[39m=\u001b[39m vote_rank[nbr][\u001b[39m1\u001b[39m]\n\u001b[0;32m     77\u001b[0m     \u001b[39mif\u001b[39;00m \u001b[39mnot\u001b[39;00m G\u001b[39m.\u001b[39mis_directed():\n\u001b[1;32m---> 78\u001b[0m         vote_rank[nbr][\u001b[39m0\u001b[39m] \u001b[39m+\u001b[39m\u001b[39m=\u001b[39m vote_rank[n][\u001b[39m1\u001b[39m]\n\u001b[0;32m     79\u001b[0m \u001b[39mfor\u001b[39;00m n \u001b[39min\u001b[39;00m influential_nodes:\n\u001b[0;32m     80\u001b[0m     vote_rank[n][\u001b[39m0\u001b[39m] \u001b[39m=\u001b[39m \u001b[39m0\u001b[39m\n",
      "\u001b[1;31mKeyboardInterrupt\u001b[0m: "
     ]
    }
   ],
   "source": [
    "# TEST\n",
    "st = time.time()\n",
    "results = []\n",
    "# phi = (1 + np.sqrt(5)) / 2.0  \n",
    "# results.append(nx.katz_centrality(G_TWITCH, 1 / phi - 0.01))\n",
    "# print(\"Minutes elapsed: \", (time.time() - st)/60)\n",
    "# results.append(nx.pagerank(G_TWITCH, max_iter=100, tol=1e-06))\n",
    "# print(\"Minutes elapsed: \", (time.time() - st)/60)\n",
    "results.append(nx.closeness_centrality(G_TWITCH))\n",
    "print(\"Minutes elapsed: \", (time.time() - st)/60)\n",
    "results.append(nx.eigenvector_centrality(G_TWITCH))\n",
    "print(\"Minutes elapsed: \", (time.time() - st)/60)\n",
    "results.append(nx.voterank(G_TWITCH))\n",
    "print(\"Minutes elapsed: \", (time.time() - st)/60)\n",
    "results.append(nx.k_shell(G_TWITCH))\n",
    "print(\"Minutes elapsed: \", (time.time() - st)/60)\n",
    "results.append(nx.degree_centrality(G_TWITCH))\n",
    "print(\"Minutes elapsed: \", (time.time() - st)/60)\n",
    "results.append(nx.betweenness_centrality(G_TWITCH))\n",
    "print(\"Minutes elapsed: \", (time.time() - st)/60)\n",
    "connected_comp = nx.connected_components(G_TWITCH)\n",
    "print(\"Minutes elapsed: \", (time.time() - st)/60)\n",
    "et = time.time()\n",
    "elapsed_time = et - st\n",
    "print('Execution time:', elapsed_time, 'seconds')"
   ]
  },
  {
   "cell_type": "code",
   "execution_count": 10,
   "metadata": {},
   "outputs": [
    {
     "name": "stdout",
     "output_type": "stream",
     "text": [
      "CPU times: total: 0 ns\n",
      "Wall time: 6.96 ms\n",
      "  Node    Degree Centrality\n",
      "------  -------------------\n",
      "  7787             0.448457\n",
      "  9206             0.192166\n",
      "  2684             0.180689\n",
      "  1638             0.15089\n",
      "  2914             0.142887\n",
      "  2816             0.14036\n",
      "  8803             0.139412\n",
      "  5893             0.132358\n",
      "  4927             0.131199\n",
      "  8262             0.118458\n"
     ]
    }
   ],
   "source": [
    "# calculate degree centrality for graph and see how long it takes\n",
    "%time degree_centrality = nx.degree_centrality(G_TWITCH)\n",
    "# print the top 10 nodes with highest degree centrality\n",
    "sorted_degree_centrality = sorted(degree_centrality.items(), key=lambda x: x[1], reverse=True)\n",
    "print(tabulate(sorted_degree_centrality[:10], headers=['Node', 'Degree Centrality']))"
   ]
  },
  {
   "cell_type": "code",
   "execution_count": null,
   "metadata": {},
   "outputs": [],
   "source": [
    "# find communities in graph and see how long it takes\n",
    "%time communities = nxcom.greedy_modularity_communities(G_TWITCH)\n",
    "\n",
    "# 245 min and still nothing"
   ]
  },
  {
   "cell_type": "code",
   "execution_count": null,
   "metadata": {},
   "outputs": [],
   "source": [
    "# possible speed up? \n",
    "\n",
    "https://medium.com/rapids-ai/rapids-cugraph-networkx-compatibility-d119e417557c "
   ]
  },
  {
   "cell_type": "code",
   "execution_count": null,
   "metadata": {},
   "outputs": [],
   "source": [
    "nx.set_node_attributes ?  based on large_twitch_features? \n",
    "\n",
    "# read csv as pandas dataframe\n",
    "df_twitch_features = pd.read_csv('dataset//large_twitch_features.csv', \n",
    "                                    header=0,\n",
    "                                    dtype={\"A\":int, \"B\":\"string\", \"C\":\"category\"})\n",
    "                                    # dtype date\n",
    "                                \n",
    "# views,mature,life_time, created_at, updated_at, numeric_id, dead_account,   language,   affiliate\n",
    "# 7879,1,969, 2016-02-16, 2018-10-12, 0,0,    EN  ,   1\n",
    "\n",
    "# headers = ['col1', 'col2', 'col3', 'col4']\n",
    "# dtypes = {'col1': 'str', 'col2': 'str', 'col3': 'str', 'col4': 'float'}\n",
    "# parse_dates = ['col1', 'col2']\n",
    "# pd.read_csv(file, sep='\\t', header=None, names=headers, dtype=dtypes, parse_dates=parse_dates)"
   ]
  }
 ],
 "metadata": {
  "kernelspec": {
   "display_name": "Python 3.8.13 ('DL')",
   "language": "python",
   "name": "python3"
  },
  "language_info": {
   "codemirror_mode": {
    "name": "ipython",
    "version": 3
   },
   "file_extension": ".py",
   "mimetype": "text/x-python",
   "name": "python",
   "nbconvert_exporter": "python",
   "pygments_lexer": "ipython3",
   "version": "3.8.13"
  },
  "orig_nbformat": 4,
  "vscode": {
   "interpreter": {
    "hash": "a7470ae86e57d468cb848d5b5b62a40a84e08338f855f2d63a3dbd376099e19e"
   }
  }
 },
 "nbformat": 4,
 "nbformat_minor": 2
}
