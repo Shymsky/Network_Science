{
 "cells": [
  {
   "cell_type": "markdown",
   "metadata": {},
   "source": [
    "# Submission Group Assignment Network Science HS22\n",
    "\n",
    "Participants:\n",
    "\n",
    "    Alexander Christian Lerch, 17-678-111\n",
    "    Diego Ricardo Bugmann, 18-472-548\n",
    "    Szymon Kaczmarski, 21-743-778      "
   ]
  },
  {
   "cell_type": "markdown",
   "metadata": {},
   "source": [
    "### LIBRARIES & DATASET"
   ]
  },
  {
   "cell_type": "code",
   "execution_count": 69,
   "metadata": {},
   "outputs": [],
   "source": [
    "import networkx as nx\n",
    "import matplotlib.pyplot as plt\n",
    "import numpy as np\n",
    "import scipy.stats as sp\n",
    "import networkx.algorithms.community as nxcom\n",
    "from matplotlib import colors as mcolors\n",
    "import powerlaw\n",
    "from scipy.special import factorial\n",
    "import pandas as pd\n",
    "from tabulate import tabulate\n",
    "import time\n",
    "import ndlib.models.ModelConfig as mc\n",
    "import ndlib.models.epidemics as ep\n",
    "from tqdm import tqdm\n",
    "import pickle"
   ]
  },
  {
   "cell_type": "code",
   "execution_count": 18,
   "metadata": {},
   "outputs": [
    {
     "name": "stdout",
     "output_type": "stream",
     "text": [
      "dataset//DE//musae_DE_edges.csv  :  Graph with 9498 nodes and 153138 edges\n",
      "dataset//ENGB//musae_ENGB_edges.csv  :  Graph with 7126 nodes and 35324 edges\n",
      "dataset//RU//musae_RU_edges.csv  :  Graph with 4385 nodes and 37304 edges\n"
     ]
    }
   ],
   "source": [
    "# -------------------P A T H S---------------------------\n",
    "PATH_TWITCH_DE = 'dataset//DE//musae_DE_edges.csv'\n",
    "PATH_TWITCH_EN = 'dataset//ENGB//musae_ENGB_edges.csv'\n",
    "PATH_TWITCH_RU = 'dataset//RU//musae_RU_edges.csv'\n",
    "\n",
    "# ----------------D A T A R E A D -----------------------\n",
    "with open(PATH_TWITCH_DE, 'rb') as twitch:\n",
    "    next(twitch, '')   # skip a line\n",
    "    G_TWITCH_DE = nx.read_edgelist(twitch, delimiter=',', \n",
    "                                    create_using=nx.Graph(), \n",
    "                                    nodetype=int, encoding=\"utf-8\")\n",
    "with open(PATH_TWITCH_EN, 'rb') as twitch:\n",
    "    next(twitch, '')   # skip a line\n",
    "    G_TWITCH_EN = nx.read_edgelist(twitch, delimiter=',', \n",
    "                                    create_using=nx.Graph(), \n",
    "                                    nodetype=int, encoding=\"utf-8\")\n",
    "with open(PATH_TWITCH_RU, 'rb') as twitch:\n",
    "    next(twitch, '')   # skip a line\n",
    "    G_TWITCH_RU = nx.read_edgelist(twitch, delimiter=',', \n",
    "                                    create_using=nx.Graph(), \n",
    "                                    nodetype=int, encoding=\"utf-8\")\n",
    "\n",
    "# ---------------------S U M M A R Y ----------------------\n",
    "print(PATH_TWITCH_DE, ' : ', G_TWITCH_DE)\n",
    "print(PATH_TWITCH_EN, ' : ', G_TWITCH_EN)\n",
    "print(PATH_TWITCH_RU, ' : ', G_TWITCH_RU)"
   ]
  },
  {
   "cell_type": "code",
   "execution_count": 19,
   "metadata": {},
   "outputs": [],
   "source": [
    "PATH_TWITCH_FEATURES_DE = 'dataset//DE//musae_DE_target.csv'\n",
    "PATH_TWITCH_FEATURES_EN = 'dataset//ENGB//musae_ENGB_target.csv'\n",
    "PATH_TWITCH_FEATURES_RU = 'dataset//RU//musae_RU_target.csv'\n",
    "df_features_de = pd.read_csv(PATH_TWITCH_FEATURES_DE, sep=',', header=0, index_col=0)\n",
    "df_features_en = pd.read_csv(PATH_TWITCH_FEATURES_EN, sep=',', header=0, index_col=0)\n",
    "df_features_ru = pd.read_csv(PATH_TWITCH_FEATURES_RU, sep=',', header=0, index_col=0)"
   ]
  },
  {
   "cell_type": "markdown",
   "metadata": {},
   "source": [
    "# ALGORITHMS"
   ]
  },
  {
   "cell_type": "code",
   "execution_count": 72,
   "metadata": {},
   "outputs": [],
   "source": [
    "ALGORITHMS_NAMES = ['Degree Centrality', 'K-Shell', 'Betweenness Centrality', 'VoteRank', 'PageRank', 'Closeness Centrality', 'Eigenvector Centrality', 'H-Index']"
   ]
  },
  {
   "cell_type": "code",
   "execution_count": 68,
   "metadata": {},
   "outputs": [],
   "source": [
    "# --------------------- H - i n d e x ----------------------\n",
    "# https://www.geeksforgeeks.org/what-is-h-index/\n",
    "def h_index_for_node(G, n):\n",
    "    # sorting in ascending order\n",
    "    neighbour_degrees_sorted = sorted((G.degree(v) for v in G.neighbors(n))) \n",
    "    # iterating over the list\n",
    "    for i, cited in enumerate(neighbour_degrees_sorted):\n",
    "        # finding current result\n",
    "        result = len(neighbour_degrees_sorted) - i\n",
    "        # if result is less than or equal\n",
    "        # to cited then return result\n",
    "        if result <= cited:\n",
    "            return result\n",
    "    return 0\n",
    "\n",
    "def h_index(G):\n",
    "    hindex_list = {}\n",
    "    for n in G.nodes():\n",
    "        hindex_list[n] = H_index_for_node(G, n)\n",
    "    return hindex_list"
   ]
  },
  {
   "cell_type": "code",
   "execution_count": 67,
   "metadata": {},
   "outputs": [
    {
     "data": {
      "image/png": "[encoded data removed]",
      "text/plain": [
       "<Figure size 640x480 with 1 Axes>"
      ]
     },
     "metadata": {},
     "output_type": "display_data"
    }
   ],
   "source": [
    "# Compute Spearman’s rank correlation 𝜌 between the PageRanks for 𝛼_0 = 0.85 and all other 𝛼_s\n",
    "from scipy.stats import spearmanr\n",
    "pr_alpha_0 = list(nx.pagerank(G_TWITCH_DE, alpha=0.85).values())\n",
    "alpha_values = [0.1, 0.2, 0.3, 0.4, 0.5, 0.6, 0.7, 0.8, 0.85, 0.9, 0.95, 0.99]\n",
    "\n",
    "# compute pagerank & spearman correlation for each alpha:\n",
    "pageranks = {}\n",
    "spearman_correlations = {}\n",
    "for alpha in alpha_values:\n",
    "    pageranks[alpha] = list(nx.pagerank(G_TWITCH_DE, alpha=alpha).values())\n",
    "    spearman_correlations[alpha] = spearmanr(pr_alpha_0, pageranks[alpha])[0]\n",
    "\n",
    "plt.scatter(spearman_correlations.keys(), spearman_correlations.values(), color = \"lime\")\n",
    "plt.xlabel(r\"$\\alpha$\", fontsize=15)\n",
    "plt.ylabel(r\"$\\rho(\\alpha)$\", fontsize=15)\n",
    "plt.title(\"Spearman’s rank correlation\", size=18)\n",
    "plt.show()"
   ]
  },
  {
   "cell_type": "code",
   "execution_count": 24,
   "metadata": {},
   "outputs": [
    {
     "name": "stderr",
     "output_type": "stream",
     "text": [
      "100%|██████████| 8/8 [00:08<00:00,  1.01s/it]\n"
     ]
    }
   ],
   "source": [
    "def run_algorithms(G):\n",
    "    pbar = tqdm(total=len(ALGORITHMS_NAMES))\n",
    "    results = []\n",
    "    results.append(nx.degree_centrality(G)) # returns dict\n",
    "    pbar.update(1)\n",
    "    # k_shell - mark nodes in outer shell as 1, others as 0\n",
    "    # outer_shell_nodes = list(nx.k_shell(G).nodes)\n",
    "    # k_shell = [1 if node in outer_shell_nodes else 0 for node in G.nodes]\n",
    "    core_number = nx.core_number(G) # returns dict\n",
    "    results.append(core_number)\n",
    "    pbar.update(1)\n",
    "    results.append(nx.betweenness_centrality(G, k=None, normalized=True, weight=None, seed=123)) # returns dict\n",
    "    pbar.update(1)\n",
    "    results.append(nx.voterank(G, number_of_nodes=None)) # BUG Ordered list of computed seeds. Only nodes with positive number of votes are returned.\n",
    "    # # create a dict with value for each node\n",
    "    # dict_voterank = {}\n",
    "    # max_value = len(G_TWITCH_EN.nodes)\n",
    "    # i = 0\n",
    "    # while i < len(result_voterank):\n",
    "    #     dict_voterank[result_voterank[i]] = max_value\n",
    "    #     max_value -= 1\n",
    "    #     i += 1\n",
    "    # # for all the nodes that are not in dict_voterank, set the value to 0\n",
    "    # for n in G_TWITCH_EN.nodes:\n",
    "    #     if n not in dict_voterank:\n",
    "    #         dict_voterank[n] = 0\n",
    "    pbar.update(1)\n",
    "    results.append(nx.pagerank(G, alpha=0.85, max_iter=100, tol=1e-06, weight=None)) # returns dict\n",
    "    pbar.update(1)\n",
    "    results.append(nx.closeness_centrality(G)) # returns dict\n",
    "    pbar.update(1)\n",
    "    results.append(nx.eigenvector_centrality(G, max_iter=100, tol=1e-06)) # returns dict\n",
    "    pbar.update(1)\n",
    "    results.append(h_index(G)) # returns dict\n",
    "    pbar.update(1)\n",
    "    pbar.close()\n",
    "    for i in range(len(results)):\n",
    "        print('results[', i, '] length: ', len(results[i]))\n",
    "        if len(results[i]) != len(G.nodes):\n",
    "            print('ERROR - results[', i, '] is not the same length as G.nodes')\n",
    "    return results"
   ]
  },
  {
   "cell_type": "code",
   "execution_count": null,
   "metadata": {},
   "outputs": [],
   "source": [
    "# TESTME\n",
    "\n",
    "results_de = run_algorithms(G_TWITCH_RU)"
   ]
  },
  {
   "cell_type": "code",
   "execution_count": null,
   "metadata": {},
   "outputs": [],
   "source": [
    "# run for each language\n",
    "results_de = run_algorithms(G_TWITCH_DE)\n",
    "results_en = run_algorithms(G_TWITCH_EN)\n",
    "results_ru = run_algorithms(G_TWITCH_RU)\n",
    "# save the results in results folder as pickle\n",
    "with open('results//results_de.pickle', 'wb') as handle:\n",
    "    pickle.dump(results_de, handle, protocol=pickle.HIGHEST_PROTOCOL)\n",
    "with open('results//results_en.pickle', 'wb') as handle:\n",
    "    pickle.dump(results_en, handle, protocol=pickle.HIGHEST_PROTOCOL)\n",
    "with open('results//results_ru.pickle', 'wb') as handle:\n",
    "    pickle.dump(results_ru, handle, protocol=pickle.HIGHEST_PROTOCOL)\n",
    "# save names of algorithms\n",
    "with open('results//algorithms_names.pickle', 'wb') as handle:\n",
    "    pickle.dump(ALGORITHMS_NAMES, handle, protocol=pickle.HIGHEST_PROTOCOL)"
   ]
  },
  {
   "cell_type": "code",
   "execution_count": null,
   "metadata": {},
   "outputs": [],
   "source": [
    "# load the results\n",
    "with open('results//results_de.pickle', 'rb') as handle:\n",
    "    results_de = pickle.load(handle)\n",
    "with open('results//results_en.pickle', 'rb') as handle:\n",
    "    results_en = pickle.load(handle)\n",
    "with open('results//results_ru.pickle', 'rb') as handle:\n",
    "    results_ru = pickle.load(handle)\n",
    "# load names of algorithms\n",
    "with open('results//algorithms_names.pickle', 'rb') as handle:\n",
    "    ALGORITHMS_NAMES = pickle.load(handle)"
   ]
  },
  {
   "cell_type": "markdown",
   "metadata": {},
   "source": [
    "# SIR (Susceptible-Infected-Recovered) model"
   ]
  },
  {
   "cell_type": "code",
   "execution_count": 87,
   "metadata": {},
   "outputs": [],
   "source": [
    "# method to calculate the infected scale\n",
    "def get_infected_scale(infected, recovered, total):\n",
    "    return (infected + recovered) / total\n",
    "\n",
    "# method to plot values\n",
    "def plot_values(x, y, title):\n",
    "    plt.plot(x, y)\n",
    "    plt.ylabel(\"F(t)\")\n",
    "    plt.xlabel(\"t\")\n",
    "    plt.title(title)\n",
    "    plt.show()\n",
    "\n",
    "# method to get beta\n",
    "def get_beta(network):\n",
    "    beta_threshold = get_infection_threshold(network)\n",
    "    return 1.5 * beta_threshold\n",
    "    \n",
    "# method to get the infection threshold\n",
    "def get_infection_threshold(network):\n",
    "    degrees = [v for k,v in network.degree()]\n",
    "    avg_degree = np.mean(degrees)\n",
    "    avg_sqrd_degrees = np.mean([d**2 for d in degrees])\n",
    "    bth = avg_degree / (avg_sqrd_degrees - avg_degree)\n",
    "    return bth\n",
    "\n",
    "# method to get gamma\n",
    "def get_gamma(network):\n",
    "    degrees = [v for k,v in network.degree()]\n",
    "    avg_degree = np.mean(degrees)\n",
    "    return 2 / avg_degree"
   ]
  },
  {
   "cell_type": "code",
   "execution_count": 91,
   "metadata": {},
   "outputs": [],
   "source": [
    "# method to simulate a model\n",
    "def simulate(network, p, beta=None, gamma=None, num_of_simulations=100, num_of_t=200, show_bar=True):\n",
    "\n",
    "    # ---------- Model Configuration ----------\n",
    "    model = ep.SIRModel(network)\n",
    "    n = network.number_of_nodes()\n",
    "    \n",
    "    # Beta and Gamma is chosen basen on explanation in paragraph 3.2\n",
    "    beta = get_beta(network) if beta == None else beta\n",
    "    gamma = get_gamma(network) if gamma == None else gamma\n",
    "    \n",
    "    cfg = mc.Configuration()\n",
    "    cfg.add_model_parameter('beta', beta) # INFECTION PROBABILITY\n",
    "    cfg.add_model_parameter('gamma', gamma) # RECOVERY PROBABILITY\n",
    "    cfg.add_model_parameter(\"fraction_infected\", p)   # TODO REMOVE\n",
    "\n",
    "    # -------------------------------------------------------\n",
    "    # TODO : Selection of initial nodes based on algorithms\n",
    "    # infected_nodes = []\n",
    "    # cfg.add_model_initial_configuration(\"Infected\", infected_nodes)\n",
    "    # -------------------------------------------------------\n",
    "\n",
    "    model.set_initial_status(cfg)\n",
    "\n",
    "\n",
    "    # ---------- Simulation ----------\n",
    "    \n",
    "    # execute the simulations and save them in a list\n",
    "    simulations = []\n",
    "    for i in range(num_of_simulations):\n",
    "        model.reset() # reset so that each simulation starts from scratch\n",
    "        simulation = model.iteration_bunch(num_of_t, progress_bar=show_bar)\n",
    "        simulations.append(simulation)\n",
    "\n",
    "    x = list(range(num_of_t))\n",
    "    y = []\n",
    "\n",
    "    # average out the infected / recovered for each step, calculate the infected_scale and save it to a list\n",
    "    for i in range(num_of_t):\n",
    "        infected = np.mean([simulation[i]['node_count'][1] for simulation in simulations]) # get the mean for each step\n",
    "        recovered = np.mean([simulation[i]['node_count'][2] for simulation in simulations]) # get the mean for each step\n",
    "        # calculate F(t) and add it to the y-values\n",
    "        infected_scale_value = get_infected_scale(infected, recovered, n)\n",
    "        y.append(infected_scale_value)\n",
    "    \n",
    "    print(\"Beta: \"+str(beta))\n",
    "    print(\"Gamma: \"+str(gamma))\n",
    "    \n",
    "    return x, y\n"
   ]
  },
  {
   "cell_type": "code",
   "execution_count": 92,
   "metadata": {},
   "outputs": [
    {
     "name": "stdout",
     "output_type": "stream",
     "text": [
      "Beta: 0.025608421113680682\n",
      "Gamma: 0.20173253312195674\n"
     ]
    },
    {
     "data": {
      "image/png": "[encoded data removed]",
      "text/plain": [
       "<Figure size 432x288 with 1 Axes>"
      ]
     },
     "metadata": {
      "needs_background": "light"
     },
     "output_type": "display_data"
    },
    {
     "name": "stdout",
     "output_type": "stream",
     "text": [
      "Beta: 0.005900017098483644\n",
      "Gamma: 0.062022489519257144\n"
     ]
    },
    {
     "data": {
      "image/png": "[encoded data removed]",
      "text/plain": [
       "<Figure size 432x288 with 1 Axes>"
      ]
     },
     "metadata": {
      "needs_background": "light"
     },
     "output_type": "display_data"
    }
   ],
   "source": [
    "# ---------- Simulate & Plot the values (EN) ----------\n",
    "x, y = simulate(G_TWITCH_EN, p=0.01, num_of_simulations=10, show_bar=False)\n",
    "plot_values(x, y, \"TWITCH EN\")\n",
    "\n",
    "# ---------- Simulate & Plot the values (DE) ----------\n",
    "x, y = simulate(G_TWITCH_DE, p=0.01, num_of_simulations=10, show_bar=False)\n",
    "plot_values(x, y, \"TWITCH DE\")\n"
   ]
  },
  {
   "cell_type": "code",
   "execution_count": null,
   "metadata": {},
   "outputs": [],
   "source": []
  },
  {
   "cell_type": "code",
   "execution_count": null,
   "metadata": {},
   "outputs": [],
   "source": []
  },
  {
   "cell_type": "code",
   "execution_count": 97,
   "metadata": {},
   "outputs": [
    {
     "name": "stdout",
     "output_type": "stream",
     "text": [
      "<k>: 27.696969696969695\n",
      "bth = 0.026566678293221718\n",
      "beta = 1.5 * bth = 0.039850017439832575\n",
      "gamma = beta / lambda (1.25) = 0.03188001395186606\n",
      "p = 0.02\n",
      "Beta: 0.039850017439832575\n",
      "Gamma: 0.03188001395186606\n"
     ]
    },
    {
     "data": {
      "image/png": "[encoded data removed]",
      "text/plain": [
       "<Figure size 432x288 with 1 Axes>"
      ]
     },
     "metadata": {
      "needs_background": "light"
     },
     "output_type": "display_data"
    },
    {
     "name": "stdout",
     "output_type": "stream",
     "text": [
      "COMPARE PLOT TO FIGURE 2 (PAGE 10) IN PAPER [2]\n"
     ]
    }
   ],
   "source": [
    "# -------------------- SECTION DIFFERENT DATASETS --------------------\n",
    "\n",
    "# !!!!! uncomment the one you want to use and then run !!!!!\n",
    "\n",
    "# ---------- FACEBOOK ----------\n",
    "# G = nx.read_gml(\"dataset/graph_facebook.gml\")\n",
    "\n",
    "\n",
    "# ---------- JAZZ ----------\n",
    "G = nx.read_gml(\"dataset/graph_jazz_collab.gml\")\n",
    "\n",
    "\n",
    "# ---------- DOLPHINS ----------\n",
    "# G = nx.read_gml(\"dataset/graph_dolphins.gml\")\n",
    "\n",
    "\n",
    "\n",
    "# -------------------- Calculate some numbers in order to get the same parameters as in paper [2] --------------------\n",
    "n = G.number_of_nodes()\n",
    "degrees = [v for k,v in G.degree()]\n",
    "avg_degree = np.mean(degrees)\n",
    "avg_sqrd_degrees = np.mean([d**2 for d in degrees])\n",
    "\n",
    "print(\"<k>: \"+str(avg_degree))\n",
    "bth = get_infection_threshold(G)                          # [2] PAGE 7 (formula for bth) / PAGE 10 table 4 (value for bth)\n",
    "beta = 1.5 * bth                                          # [2] PAGE 7 (formula for beta)\n",
    "lamb = 1.25                                               # [2] PAGE 11 figure 2 (ratio infection prob / recovery prob)\n",
    "p = 0.02                                                  # [2] PAGE 11 figure 2\n",
    "print(\"bth = \"+str(bth))\n",
    "print(\"beta = 1.5 * bth = \"+str(beta))\n",
    "gamma = beta / lamb                                       # [2] PAGE 7 (formula for beta)\n",
    "print(\"gamma = beta / lambda (1.25) = \"+str(gamma))       # [2] PAGE 11 figure 2: Use ratio of 1.25\n",
    "print(\"p = \"+str(p))\n",
    "\n",
    "\n",
    "# ---------- Simulate ----------\n",
    "x, y = simulate(G, p=p, beta=beta, gamma=gamma, num_of_simulations=100, num_of_t=100, show_bar=False)\n",
    "\n",
    "# ---------- Plot the values ----------\n",
    "plot_values(x, y, \"TEST\")\n",
    "print(\"COMPARE PLOT TO FIGURE 2 (PAGE 10) IN PAPER [2]\")"
   ]
  },
  {
   "cell_type": "code",
   "execution_count": null,
   "metadata": {},
   "outputs": [],
   "source": []
  },
  {
   "cell_type": "code",
   "execution_count": null,
   "metadata": {},
   "outputs": [],
   "source": []
  },
  {
   "cell_type": "code",
   "execution_count": null,
   "metadata": {},
   "outputs": [],
   "source": []
  }
 ],
 "metadata": {
  "kernelspec": {
   "display_name": "Python 3 (ipykernel)",
   "language": "python",
   "name": "python3"
  },
  "language_info": {
   "codemirror_mode": {
    "name": "ipython",
    "version": 3
   },
   "file_extension": ".py",
   "mimetype": "text/x-python",
   "name": "python",
   "nbconvert_exporter": "python",
   "pygments_lexer": "ipython3",
   "version": "3.8.13"
  },
  "vscode": {
   "interpreter": {
    "hash": "a7470ae86e57d468cb848d5b5b62a40a84e08338f855f2d63a3dbd376099e19e"
   }
  }
 },
 "nbformat": 4,
 "nbformat_minor": 4
}
