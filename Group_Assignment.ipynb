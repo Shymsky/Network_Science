{
 "cells": [
  {
   "cell_type": "markdown",
   "metadata": {},
   "source": [
    "# Submission Group Assignment Network Science HS22\n",
    "\n",
    "Participants:\n",
    "\n",
    "    Alexander Christian Lerch, 17-678-111\n",
    "    Diego Ricardo Bugman, 18-472-548\n",
    "    Szymon Kaczmarski, 21-743-778      "
   ]
  },
  {
   "cell_type": "markdown",
   "metadata": {},
   "source": [
    "### LIBRARIES & DATASET"
   ]
  },
  {
   "cell_type": "code",
   "execution_count": 1,
   "metadata": {},
   "outputs": [],
   "source": [
    "#import the packages needed\n",
    "import networkx as nx\n",
    "import matplotlib.pyplot as plt\n",
    "import numpy as np\n",
    "import scipy.stats as sp\n",
    "import networkx.algorithms.community as nxcom\n",
    "from matplotlib import colors as mcolors\n",
    "import powerlaw\n",
    "from scipy.special import factorial\n",
    "import pandas as pd\n",
    "from tabulate import tabulate\n",
    "import time"
   ]
  },
  {
   "cell_type": "code",
   "execution_count": 13,
   "metadata": {},
   "outputs": [
    {
     "name": "stdout",
     "output_type": "stream",
     "text": [
      "Number of nodes:  9498\n",
      "Number of edges:  153138\n"
     ]
    }
   ],
   "source": [
    "# PATH\n",
    "PATH_TWITCH = 'dataset//DE//musae_DE_edges.csv'\n",
    "# DATASET\n",
    "with open(PATH_TWITCH, 'rb') as twitch:\n",
    "    next(twitch, '')   # skip a line\n",
    "    G_TWITCH = nx.read_edgelist(twitch, delimiter=',', create_using=nx.Graph(), nodetype=int, encoding=\"utf-8\")\n",
    "print(\"Number of nodes: \", G_TWITCH.number_of_nodes())\n",
    "print(\"Number of edges: \", G_TWITCH.number_of_edges())"
   ]
  },
  {
   "cell_type": "code",
   "execution_count": 16,
   "metadata": {},
   "outputs": [],
   "source": [
    "# PATH\n",
    "PATH_TWITCH_FEATURES = 'dataset//DE//musae_DE_target.csv'\n",
    "# READ FEATURES INTO DF\n",
    "df_twitch_features = pd.read_csv(PATH_TWITCH_FEATURES, sep=',', header=0, index_col=0)"
   ]
  },
  {
   "cell_type": "markdown",
   "metadata": {},
   "source": [
    "# TESTING "
   ]
  },
  {
   "cell_type": "code",
   "execution_count": 12,
   "metadata": {},
   "outputs": [
    {
     "name": "stdout",
     "output_type": "stream",
     "text": [
      "Minutes elapsed:  6.22779270807902\n",
      "Minutes elapsed:  6.25967884461085\n",
      "Minutes elapsed:  22.12484808365504\n",
      "Minutes elapsed:  22.138033699989318\n",
      "Minutes elapsed:  22.138108762105308\n",
      "Minutes elapsed:  48.90795223315557\n",
      "Minutes elapsed:  48.90795223315557\n",
      "Execution time: 2934.477133989334 seconds\n"
     ]
    }
   ],
   "source": [
    "# TEST\n",
    "st = time.time()\n",
    "results = []\n",
    "# phi = (1 + np.sqrt(5)) / 2.0  \n",
    "# results.append(nx.katz_centrality(G_TWITCH, 1 / phi - 0.01))\n",
    "# print(\"Minutes elapsed: \", (time.time() - st)/60)\n",
    "# results.append(nx.pagerank(G_TWITCH, max_iter=100, tol=1e-06))\n",
    "# print(\"Minutes elapsed: \", (time.time() - st)/60)\n",
    "results.append(nx.closeness_centrality(G_TWITCH))\n",
    "print(\"Minutes elapsed: \", (time.time() - st)/60)\n",
    "results.append(nx.eigenvector_centrality(G_TWITCH))\n",
    "print(\"Minutes elapsed: \", (time.time() - st)/60)\n",
    "results.append(nx.voterank(G_TWITCH))\n",
    "print(\"Minutes elapsed: \", (time.time() - st)/60)\n",
    "results.append(nx.k_shell(G_TWITCH))\n",
    "print(\"Minutes elapsed: \", (time.time() - st)/60)\n",
    "results.append(nx.degree_centrality(G_TWITCH))\n",
    "print(\"Minutes elapsed: \", (time.time() - st)/60)\n",
    "results.append(nx.betweenness_centrality(G_TWITCH))\n",
    "print(\"Minutes elapsed: \", (time.time() - st)/60)\n",
    "connected_comp = nx.connected_components(G_TWITCH)\n",
    "print(\"Minutes elapsed: \", (time.time() - st)/60)\n",
    "et = time.time()\n",
    "elapsed_time = et - st\n",
    "print('Execution time:', elapsed_time, 'seconds')"
   ]
  }
 ],
 "metadata": {
  "kernelspec": {
   "display_name": "Python 3.8.13 ('DL')",
   "language": "python",
   "name": "python3"
  },
  "language_info": {
   "codemirror_mode": {
    "name": "ipython",
    "version": 3
   },
   "file_extension": ".py",
   "mimetype": "text/x-python",
   "name": "python",
   "nbconvert_exporter": "python",
   "pygments_lexer": "ipython3",
   "version": "3.8.13"
  },
  "orig_nbformat": 4,
  "vscode": {
   "interpreter": {
    "hash": "a7470ae86e57d468cb848d5b5b62a40a84e08338f855f2d63a3dbd376099e19e"
   }
  }
 },
 "nbformat": 4,
 "nbformat_minor": 2
}
