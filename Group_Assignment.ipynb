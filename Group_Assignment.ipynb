{
 "cells": [
  {
   "cell_type": "markdown",
   "metadata": {},
   "source": [
    "# Submission Group Assignment Network Science HS22\n",
    "\n",
    "Participants:\n",
    "\n",
    "    Alexander Christian Lerch, 17-678-111\n",
    "    Diego Ricardo Bugman, 18-472-548\n",
    "    Szymon Kaczmarski, 21-743-778      "
   ]
  },
  {
   "cell_type": "markdown",
   "metadata": {},
   "source": [
    "### LIBRARIES & DATASET"
   ]
  },
  {
   "cell_type": "code",
   "execution_count": 10,
   "metadata": {},
   "outputs": [],
   "source": [
    "#import the packages needed\n",
    "import networkx as nx\n",
    "import matplotlib.pyplot as plt\n",
    "import numpy as np\n",
    "import scipy.stats as sp\n",
    "import networkx.algorithms.community as nxcom\n",
    "from matplotlib import colors as mcolors\n",
    "import powerlaw\n",
    "from scipy.special import factorial\n",
    "import pandas as pd\n",
    "from tabulate import tabulate\n",
    "import time\n",
    "import ndlib.models.ModelConfig as mc\n",
    "import ndlib.models.epidemics as ep\n",
    "from tqdm import tqdm"
   ]
  },
  {
   "cell_type": "code",
   "execution_count": 5,
   "metadata": {},
   "outputs": [
    {
     "name": "stdout",
     "output_type": "stream",
     "text": [
      "dataset//DE//musae_DE_edges.csv  :  Graph with 9498 nodes and 153138 edges\n",
      "dataset//ENGB//musae_ENGB_edges.csv  :  Graph with 7126 nodes and 35324 edges\n"
     ]
    }
   ],
   "source": [
    "# PATH DE\n",
    "PATH_TWITCH_DE = 'dataset//DE//musae_DE_edges.csv'\n",
    "# DATASET DE\n",
    "with open(PATH_TWITCH_DE, 'rb') as twitch:\n",
    "    next(twitch, '')   # skip a line\n",
    "    G_TWITCH_DE = nx.read_edgelist(twitch, delimiter=',', create_using=nx.Graph(), nodetype=int, encoding=\"utf-8\")\n",
    "n = G_TWITCH_DE.number_of_nodes()\n",
    "print(PATH_TWITCH_DE, ' : ', G_TWITCH_DE)\n",
    "# print(\"Number of nodes: \", n)\n",
    "# print(\"Number of edges: \", G_TWITCH_DE.number_of_edges())\n",
    "\n",
    "\n",
    "# PATH EN\n",
    "PATH_TWITCH = 'dataset//ENGB//musae_ENGB_edges.csv'\n",
    "# DATASET EN\n",
    "with open(PATH_TWITCH, 'rb') as twitch:\n",
    "    next(twitch, '')   # skip a line\n",
    "    G_TWITCH = nx.read_edgelist(twitch, delimiter=',', create_using=nx.Graph(), nodetype=int, encoding=\"utf-8\")\n",
    "n = G_TWITCH.number_of_nodes()\n",
    "print(PATH_TWITCH, ' : ', G_TWITCH)\n",
    "# print(\"Number of nodes: \", n)\n",
    "# print(\"Number of edges: \", G_TWITCH.number_of_edges())"
   ]
  },
  {
   "cell_type": "code",
   "execution_count": 6,
   "metadata": {},
   "outputs": [],
   "source": [
    "# PATH DE\n",
    "# PATH_TWITCH_FEATURES = 'dataset//DE//musae_DE_target.csv'\n",
    "# PATH EN\n",
    "PATH_TWITCH_FEATURES = 'dataset//ENGB//musae_ENGB_target.csv'\n",
    "\n",
    "# READ FEATURES INTO DF\n",
    "df_twitch_features = pd.read_csv(PATH_TWITCH_FEATURES, sep=',', header=0, index_col=0)"
   ]
  },
  {
   "cell_type": "markdown",
   "metadata": {},
   "source": [
    "# ALGORITHMS"
   ]
  },
  {
   "cell_type": "code",
   "execution_count": 14,
   "metadata": {},
   "outputs": [],
   "source": [
    "def hindex_for_node(g, n): \n",
    "    sorted_neighbor_degrees = sorted((g.degree(v) for v in g.neighbors(n)), reverse=True) \n",
    "    h = 0 \n",
    "    for i in range(1, len(sorted_neighbor_degrees)+1): \n",
    "        if sorted_neighbor_degrees[i-1] < i: \n",
    "            break \n",
    "        h = i \n",
    "    return h \n",
    "\n",
    "def hindex(g): \n",
    "    hindex_list = [] \n",
    "    n = g.number_of_nodes()\n",
    "    for n in g.nodes(): \n",
    "        hindex_list.append(hindex_for_node(g, n)) \n",
    "    return hindex_list"
   ]
  },
  {
   "cell_type": "code",
   "execution_count": null,
   "metadata": {},
   "outputs": [],
   "source": [
    "# pagerank(G, alpha=0.85, personalization=None, max_iter=100, tol=1e-06, nstart=None, weight='weight', dangling=None) \n",
    "# eigenvector_centrality(G, max_iter=100, tol=1e-06, nstart=None, weight=None) \n",
    "# k_shell(G, k=None, core_number=None) – returns the k-shell subgraph "
   ]
  },
  {
   "cell_type": "code",
   "execution_count": 17,
   "metadata": {},
   "outputs": [
    {
     "name": "stderr",
     "output_type": "stream",
     "text": [
      "Processing Betweenness Centrality:  25%|██▌       | 2/8 [00:10<00:31,  5.20s/it]\n"
     ]
    }
   ],
   "source": [
    "algorithms_names = ['Degree Centrality', 'K-Shell', 'Betweenness Centrality', 'Voterank', 'Pagerank', 'Closeness Centrality', 'Eigenvector Centrality', 'H-Index']\n",
    "pbar = tqdm(total=len(algorithms_names))\n",
    "results = []\n",
    "st = time.time()\n",
    "pbar.set_description(\"Processing %s\" % algorithms_names[0])\n",
    "results.append(nx.degree_centrality(G_TWITCH_DE))\n",
    "pbar.update(1)\n",
    "pbar.set_description(\"Processing %s\" % algorithms_names[1])\n",
    "results.append(nx.k_shell(G_TWITCH_DE))\n",
    "pbar.update(1)\n",
    "pbar.set_description(\"Processing %s\" % algorithms_names[2])\n",
    "results.append(nx.betweenness_centrality(G_TWITCH_DE))\n",
    "pbar.update(1)\n",
    "pbar.set_description(\"Processing %s\" % algorithms_names[3])\n",
    "results.append(nx.voterank(G_TWITCH_DE))\n",
    "pbar.update(1)\n",
    "pbar.set_description(\"Processing %s\" % algorithms_names[4])\n",
    "results.append(nx.pagerank(G_TWITCH, max_iter=100, tol=1e-06))\n",
    "pbar.update(1)\n",
    "pbar.set_description(\"Processing %s\" % algorithms_names[5])\n",
    "results.append(nx.closeness_centrality(G_TWITCH_DE))\n",
    "pbar.update(1)\n",
    "pbar.set_description(\"Processing %s\" % algorithms_names[6])\n",
    "results.append(nx.eigenvector_centrality(G_TWITCH_DE))\n",
    "pbar.update(1)\n",
    "pbar.set_description(\"Processing %s\" % algorithms_names[7])\n",
    "results.append(hindex(G_TWITCH_DE))\n",
    "pbar.update(1)\n",
    "pbar.close()\n",
    "print(\"Minutes elapsed: \", (time.time() - st)/60)"
   ]
  },
  {
   "cell_type": "code",
   "execution_count": 9,
   "metadata": {},
   "outputs": [],
   "source": [
    "# method to calculate the infected scale\n",
    "def get_infected_scale(infected, recovered, total):\n",
    "    return (infected + recovered) / total\n",
    "\n",
    "# method to plot values\n",
    "def plot_values(x, y):\n",
    "    plt.plot(x, y)\n",
    "    plt.ylabel(\"F(t)\")\n",
    "    plt.xlabel(\"t\")\n",
    "    plt.show()\n"
   ]
  },
  {
   "cell_type": "code",
   "execution_count": 20,
   "metadata": {},
   "outputs": [
    {
     "name": "stderr",
     "output_type": "stream",
     "text": [
      "100%|███████████████████████████████████████████████████████████████████████████████| 200/200 [00:01<00:00, 102.33it/s]\n",
      "100%|████████████████████████████████████████████████████████████████████████████████| 200/200 [00:02<00:00, 93.77it/s]\n",
      "100%|████████████████████████████████████████████████████████████████████████████████| 200/200 [00:02<00:00, 86.11it/s]\n",
      "100%|████████████████████████████████████████████████████████████████████████████████| 200/200 [00:02<00:00, 96.78it/s]\n",
      "100%|████████████████████████████████████████████████████████████████████████████████| 200/200 [00:02<00:00, 84.77it/s]\n",
      "100%|███████████████████████████████████████████████████████████████████████████████| 200/200 [00:01<00:00, 101.20it/s]\n",
      "100%|████████████████████████████████████████████████████████████████████████████████| 200/200 [00:02<00:00, 70.28it/s]\n",
      "100%|████████████████████████████████████████████████████████████████████████████████| 200/200 [00:03<00:00, 57.19it/s]\n",
      "100%|████████████████████████████████████████████████████████████████████████████████| 200/200 [00:02<00:00, 94.55it/s]\n",
      "100%|████████████████████████████████████████████████████████████████████████████████| 200/200 [00:02<00:00, 95.04it/s]\n"
     ]
    }
   ],
   "source": [
    "# ---------- Model Selection ----------\n",
    "model = ep.SIRModel(G_TWITCH)\n",
    "\n",
    "# ---------- Model Configuration ----------\n",
    "cfg = mc.Configuration()\n",
    "cfg.add_model_parameter('beta', 0.01) # INFECTION PROBABILITY\n",
    "cfg.add_model_parameter('gamma', 0.2) # RECOVERY PROBABILITY\n",
    "\n",
    "# -------------------------------------------------------\n",
    "# TODO : Selection of initial nodes based on algorithms\n",
    "cfg.add_model_parameter(\"fraction_infected\", 0.01)\n",
    "# -------------------------------------------------------\n",
    "\n",
    "model.set_initial_status(cfg)\n",
    "\n",
    "\n",
    "# ---------- Simulation ----------\n",
    "num_of_simulations = 10   # TODO change to 100 for more accurate results\n",
    "# in papers often 500, but actually only as much until num_of_infected = 0 (steady state) ... using 200 for now\n",
    "num_of_steps_per_simulation = 200\n",
    "\n",
    "# execute the simulations and save them in a list\n",
    "simulations = []\n",
    "for i in range(num_of_simulations):\n",
    "    model.reset() # reset so that each simulation starts from scratch\n",
    "    simulation = model.iteration_bunch(num_of_steps_per_simulation, progress_bar=True)\n",
    "    simulations.append(simulation)\n",
    "\n",
    "x = list(range(num_of_steps_per_simulation))\n",
    "y = []\n",
    "\n",
    "# average out the infected / recovered for each step, calculate the infected_scale and save it to a list\n",
    "for i in range(num_of_steps_per_simulation):\n",
    "    infected = np.mean([simulation[i]['node_count'][1] for simulation in simulations]) # get the mean for each step\n",
    "    recovered = np.mean([simulation[i]['node_count'][2] for simulation in simulations]) # get the mean for each step\n",
    "    # calculate F(t) and add it to the y-values\n",
    "    infected_scale_value = get_infected_scale(infected, recovered, n)\n",
    "    y.append(infected_scale_value)\n"
   ]
  },
  {
   "cell_type": "code",
   "execution_count": 21,
   "metadata": {},
   "outputs": [
    {
     "data": {
      "image/png": "[encoded data removed]",
      "text/plain": [
       "<Figure size 432x288 with 1 Axes>"
      ]
     },
     "metadata": {
      "needs_background": "light"
     },
     "output_type": "display_data"
    }
   ],
   "source": [
    "# ---------- Plot the values ----------\n",
    "plot_values(x, y)"
   ]
  }
 ],
 "metadata": {
  "kernelspec": {
   "display_name": "Python 3.8.13 ('DL')",
   "language": "python",
   "name": "python3"
  },
  "language_info": {
   "codemirror_mode": {
    "name": "ipython",
    "version": 3
   },
   "file_extension": ".py",
   "mimetype": "text/x-python",
   "name": "python",
   "nbconvert_exporter": "python",
   "pygments_lexer": "ipython3",
   "version": "3.8.13"
  },
  "vscode": {
   "interpreter": {
    "hash": "a7470ae86e57d468cb848d5b5b62a40a84e08338f855f2d63a3dbd376099e19e"
   }
  }
 },
 "nbformat": 4,
 "nbformat_minor": 4
}
