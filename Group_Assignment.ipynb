{
 "cells": [
  {
   "cell_type": "markdown",
   "metadata": {},
   "source": [
    "# Submission Group Assignment Network Science HS22\n",
    "\n",
    "Participants:\n",
    "\n",
    "    Alexander Christian Lerch, 17-678-111\n",
    "    Diego Ricardo Bugman, 18-472-548\n",
    "    Szymon Kaczmarski, 21-743-778      "
   ]
  },
  {
   "cell_type": "markdown",
   "metadata": {},
   "source": [
    "### LIBRARIES"
   ]
  },
  {
   "cell_type": "code",
   "execution_count": 28,
   "metadata": {},
   "outputs": [],
   "source": [
    "#import the packages needed\n",
    "import networkx as nx\n",
    "import matplotlib.pyplot as plt\n",
    "import numpy as np\n",
    "import scipy.stats as sp\n",
    "import networkx.algorithms.community as nxcom\n",
    "from matplotlib import colors as mcolors\n",
    "import powerlaw\n",
    "from scipy.special import factorial\n",
    "import pandas as pd\n",
    "from tabulate import tabulate"
   ]
  },
  {
   "cell_type": "markdown",
   "metadata": {},
   "source": [
    "### READING DATASET"
   ]
  },
  {
   "cell_type": "code",
   "execution_count": 17,
   "metadata": {},
   "outputs": [],
   "source": [
    "# -------------- TO BE RUN ONLY ONCE \n",
    "\n",
    "#open csv and delete first line(header line) and save file\n",
    "# with open('dataset//large_twitch_edges.csv', 'r') as f:\n",
    "#     lines = f.readlines()\n",
    "#     lines = lines[1:]\n",
    "#     with open('dataset//large_twitch_edges_new.csv', 'w') as f:\n",
    "#         f.writelines(lines)"
   ]
  },
  {
   "cell_type": "code",
   "execution_count": 18,
   "metadata": {},
   "outputs": [
    {
     "name": "stdout",
     "output_type": "stream",
     "text": [
      "Number of nodes:  168114\n",
      "Number of edges:  6797557\n"
     ]
    }
   ],
   "source": [
    "G_TWITCH = nx.read_edgelist('dataset//large_twitch_edges_new.csv', \n",
    "                            delimiter = ',', \n",
    "                            create_using=nx.Graph(), \n",
    "                            nodetype=int)\n",
    "print(\"Number of nodes: \", G_TWITCH.number_of_nodes())\n",
    "print(\"Number of edges: \", G_TWITCH.number_of_edges())"
   ]
  },
  {
   "cell_type": "code",
   "execution_count": 32,
   "metadata": {},
   "outputs": [
    {
     "name": "stdout",
     "output_type": "stream",
     "text": [
      "CPU times: total: 15.6 ms\n",
      "Wall time: 110 ms\n",
      "  Node    Degree Centrality\n",
      "------  -------------------\n",
      " 61862            0.209853\n",
      "125642            0.18478\n",
      " 32338            0.18142\n",
      " 71050            0.177928\n",
      "110345            0.13488\n",
      " 64605            0.123001\n",
      " 52703            0.111598\n",
      "155127            0.109147\n",
      " 60588            0.0872568\n",
      "123018            0.0857518\n"
     ]
    }
   ],
   "source": [
    "# calculate degree centrality for graph and see how long it takes\n",
    "%time degree_centrality = nx.degree_centrality(G_TWITCH)\n",
    "# print the top 10 nodes with highest degree centrality\n",
    "sorted_degree_centrality = sorted(degree_centrality.items(), key=lambda x: x[1], reverse=True)\n",
    "print(tabulate(sorted_degree_centrality[:10], headers=['Node', 'Degree Centrality']))"
   ]
  },
  {
   "cell_type": "code",
   "execution_count": 33,
   "metadata": {},
   "outputs": [
    {
     "ename": "KeyboardInterrupt",
     "evalue": "",
     "output_type": "error",
     "traceback": [
      "\u001b[1;31m---------------------------------------------------------------------------\u001b[0m",
      "\u001b[1;31mKeyboardInterrupt\u001b[0m                         Traceback (most recent call last)",
      "File \u001b[1;32m<timed exec>:1\u001b[0m, in \u001b[0;36m<module>\u001b[1;34m\u001b[0m\n",
      "File \u001b[1;32mc:\\Users\\szymo\\miniconda3\\envs\\DL\\lib\\site-packages\\networkx\\algorithms\\community\\modularity_max.py:371\u001b[0m, in \u001b[0;36mgreedy_modularity_communities\u001b[1;34m(G, weight, resolution, cutoff, best_n, n_communities)\u001b[0m\n\u001b[0;32m    369\u001b[0m     \u001b[39mif\u001b[39;00m dq \u001b[39m<\u001b[39m \u001b[39m0\u001b[39m \u001b[39mand\u001b[39;00m \u001b[39mlen\u001b[39m(communities) \u001b[39m<\u001b[39m\u001b[39m=\u001b[39m best_n:\n\u001b[0;32m    370\u001b[0m         \u001b[39mbreak\u001b[39;00m\n\u001b[1;32m--> 371\u001b[0m     communities \u001b[39m=\u001b[39m \u001b[39mnext\u001b[39;49m(community_gen)\n\u001b[0;32m    373\u001b[0m \u001b[39mreturn\u001b[39;00m \u001b[39msorted\u001b[39m(communities, key\u001b[39m=\u001b[39m\u001b[39mlen\u001b[39m, reverse\u001b[39m=\u001b[39m\u001b[39mTrue\u001b[39;00m)\n",
      "File \u001b[1;32mc:\\Users\\szymo\\miniconda3\\envs\\DL\\lib\\site-packages\\networkx\\algorithms\\community\\modularity_max.py:177\u001b[0m, in \u001b[0;36m_greedy_modularity_communities_generator\u001b[1;34m(G, weight, resolution)\u001b[0m\n\u001b[0;32m    174\u001b[0m \u001b[39m# Save old value for finding heap index\u001b[39;00m\n\u001b[0;32m    175\u001b[0m \u001b[39mif\u001b[39;00m w \u001b[39min\u001b[39;00m v_nbrs:\n\u001b[0;32m    176\u001b[0m     \u001b[39m# Update existing element in per-row heap\u001b[39;00m\n\u001b[1;32m--> 177\u001b[0m     dq_heap_row\u001b[39m.\u001b[39;49mupdate(d, d, priority\u001b[39m=\u001b[39;49md_negdq)\n\u001b[0;32m    178\u001b[0m \u001b[39melse\u001b[39;00m:\n\u001b[0;32m    179\u001b[0m     \u001b[39m# We're creating a new nonzero element, add to heap\u001b[39;00m\n\u001b[0;32m    180\u001b[0m     dq_heap_row\u001b[39m.\u001b[39mpush(d, priority\u001b[39m=\u001b[39md_negdq)\n",
      "File \u001b[1;32mc:\\Users\\szymo\\miniconda3\\envs\\DL\\lib\\site-packages\\networkx\\utils\\mapped_queue.py:187\u001b[0m, in \u001b[0;36mMappedQueue.update\u001b[1;34m(self, elt, new, priority)\u001b[0m\n\u001b[0;32m    185\u001b[0m \u001b[39mself\u001b[39m\u001b[39m.\u001b[39mposition[new] \u001b[39m=\u001b[39m pos\n\u001b[0;32m    186\u001b[0m \u001b[39m# Restore invariant by sifting up\u001b[39;00m\n\u001b[1;32m--> 187\u001b[0m \u001b[39mself\u001b[39;49m\u001b[39m.\u001b[39;49m_siftup(pos)\n",
      "File \u001b[1;32mc:\\Users\\szymo\\miniconda3\\envs\\DL\\lib\\site-packages\\networkx\\utils\\mapped_queue.py:240\u001b[0m, in \u001b[0;36mMappedQueue._siftup\u001b[1;34m(self, pos)\u001b[0m\n\u001b[0;32m    238\u001b[0m parent_pos \u001b[39m=\u001b[39m (pos \u001b[39m-\u001b[39m \u001b[39m1\u001b[39m) \u001b[39m>>\u001b[39m \u001b[39m1\u001b[39m\n\u001b[0;32m    239\u001b[0m parent \u001b[39m=\u001b[39m heap[parent_pos]\n\u001b[1;32m--> 240\u001b[0m \u001b[39mif\u001b[39;00m \u001b[39mnot\u001b[39;00m newitem \u001b[39m<\u001b[39;49m parent:\n\u001b[0;32m    241\u001b[0m     \u001b[39mbreak\u001b[39;00m\n\u001b[0;32m    242\u001b[0m heap[pos] \u001b[39m=\u001b[39m parent\n",
      "File \u001b[1;32mc:\\Users\\szymo\\miniconda3\\envs\\DL\\lib\\site-packages\\networkx\\utils\\mapped_queue.py:47\u001b[0m, in \u001b[0;36m_HeapElement.__lt__\u001b[1;34m(self, other)\u001b[0m\n\u001b[0;32m     45\u001b[0m \u001b[39mif\u001b[39;00m \u001b[39mself\u001b[39m\u001b[39m.\u001b[39mpriority \u001b[39m==\u001b[39m other_priority:\n\u001b[0;32m     46\u001b[0m     \u001b[39mreturn\u001b[39;00m \u001b[39mself\u001b[39m\u001b[39m.\u001b[39melement \u001b[39m<\u001b[39m other\u001b[39m.\u001b[39melement\n\u001b[1;32m---> 47\u001b[0m \u001b[39mreturn\u001b[39;00m \u001b[39mself\u001b[39;49m\u001b[39m.\u001b[39;49mpriority \u001b[39m<\u001b[39;49m other_priority\n",
      "\u001b[1;31mKeyboardInterrupt\u001b[0m: "
     ]
    }
   ],
   "source": [
    "# find communities in graph and see how long it takes\n",
    "%time communities = nxcom.greedy_modularity_communities(G_TWITCH)\n",
    "\n",
    "# 245 min and still nothing"
   ]
  },
  {
   "cell_type": "code",
   "execution_count": null,
   "metadata": {},
   "outputs": [],
   "source": [
    "# possible speed up? \n",
    "\n",
    "https://medium.com/rapids-ai/rapids-cugraph-networkx-compatibility-d119e417557c "
   ]
  },
  {
   "cell_type": "code",
   "execution_count": null,
   "metadata": {},
   "outputs": [],
   "source": [
    "nx.set_node_attributes ?  based on large_twitch_features? \n",
    "\n",
    "\n",
    "\n",
    "\n",
    "# read csv as pandas dataframe\n",
    "df_twitch_features = pd.read_csv('dataset//large_twitch_features.csv', \n",
    "                                    header=0,\n",
    "                                    dtype={\"A\":int, \"B\":\"string\", \"C\":\"category\"})\n",
    "                                    # dtype date\n",
    "                                \n",
    "# views,mature,life_time, created_at, updated_at, numeric_id, dead_account,   language,   affiliate\n",
    "# 7879,1,969, 2016-02-16, 2018-10-12, 0,0,    EN  ,   1\n",
    "\n",
    "# headers = ['col1', 'col2', 'col3', 'col4']\n",
    "# dtypes = {'col1': 'str', 'col2': 'str', 'col3': 'str', 'col4': 'float'}\n",
    "# parse_dates = ['col1', 'col2']\n",
    "# pd.read_csv(file, sep='\\t', header=None, names=headers, dtype=dtypes, parse_dates=parse_dates)\n",
    "\n",
    "\n"
   ]
  }
 ],
 "metadata": {
  "kernelspec": {
   "display_name": "Python 3.8.13 ('DL')",
   "language": "python",
   "name": "python3"
  },
  "language_info": {
   "codemirror_mode": {
    "name": "ipython",
    "version": 3
   },
   "file_extension": ".py",
   "mimetype": "text/x-python",
   "name": "python",
   "nbconvert_exporter": "python",
   "pygments_lexer": "ipython3",
   "version": "3.8.13"
  },
  "orig_nbformat": 4,
  "vscode": {
   "interpreter": {
    "hash": "a7470ae86e57d468cb848d5b5b62a40a84e08338f855f2d63a3dbd376099e19e"
   }
  }
 },
 "nbformat": 4,
 "nbformat_minor": 2
}
