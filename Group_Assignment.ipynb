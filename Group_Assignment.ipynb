{
 "cells": [
  {
   "cell_type": "markdown",
   "metadata": {},
   "source": [
    "# Submission Group Assignment Network Science HS22\n",
    "\n",
    "Participants:\n",
    "\n",
    "    Alexander Christian Lerch, 17-678-111\n",
    "    Diego Ricardo Bugman, 18-472-548\n",
    "    Szymon Kaczmarski, 21-743-778      "
   ]
  },
  {
   "cell_type": "markdown",
   "metadata": {},
   "source": [
    "### LIBRARIES"
   ]
  },
  {
   "cell_type": "code",
   "execution_count": 28,
   "metadata": {},
   "outputs": [],
   "source": [
    "#import the packages needed\n",
    "import networkx as nx\n",
    "import matplotlib.pyplot as plt\n",
    "import numpy as np\n",
    "import scipy.stats as sp\n",
    "import networkx.algorithms.community as nxcom\n",
    "from matplotlib import colors as mcolors\n",
    "import powerlaw\n",
    "from scipy.special import factorial\n",
    "import pandas as pd\n",
    "from tabulate import tabulate"
   ]
  },
  {
   "cell_type": "markdown",
   "metadata": {},
   "source": [
    "### READING DATASET"
   ]
  },
  {
   "cell_type": "code",
   "execution_count": 17,
   "metadata": {},
   "outputs": [],
   "source": [
    "# -------------- TO BE RUN ONLY ONCE \n",
    "\n",
    "#open csv and delete first line(header line) and save file\n",
    "# with open('dataset//large_twitch_edges.csv', 'r') as f:\n",
    "#     lines = f.readlines()\n",
    "#     lines = lines[1:]\n",
    "#     with open('dataset//large_twitch_edges_new.csv', 'w') as f:\n",
    "#         f.writelines(lines)"
   ]
  },
  {
   "cell_type": "code",
   "execution_count": 18,
   "metadata": {},
   "outputs": [
    {
     "name": "stdout",
     "output_type": "stream",
     "text": [
      "Number of nodes:  168114\n",
      "Number of edges:  6797557\n"
     ]
    }
   ],
   "source": [
    "G_TWITCH = nx.read_edgelist('dataset//large_twitch_edges_new.csv', \n",
    "                            delimiter = ',', \n",
    "                            create_using=nx.Graph(), \n",
    "                            nodetype=int)\n",
    "print(\"Number of nodes: \", G_TWITCH.number_of_nodes())\n",
    "print(\"Number of edges: \", G_TWITCH.number_of_edges())"
   ]
  },
  {
   "cell_type": "code",
   "execution_count": 32,
   "metadata": {},
   "outputs": [
    {
     "name": "stdout",
     "output_type": "stream",
     "text": [
      "CPU times: total: 15.6 ms\n",
      "Wall time: 110 ms\n",
      "  Node    Degree Centrality\n",
      "------  -------------------\n",
      " 61862            0.209853\n",
      "125642            0.18478\n",
      " 32338            0.18142\n",
      " 71050            0.177928\n",
      "110345            0.13488\n",
      " 64605            0.123001\n",
      " 52703            0.111598\n",
      "155127            0.109147\n",
      " 60588            0.0872568\n",
      "123018            0.0857518\n"
     ]
    }
   ],
   "source": [
    "# calculate degree centrality for graph and see how long it takes\n",
    "%time degree_centrality = nx.degree_centrality(G_TWITCH)\n",
    "# print the top 10 nodes with highest degree centrality\n",
    "sorted_degree_centrality = sorted(degree_centrality.items(), key=lambda x: x[1], reverse=True)\n",
    "print(tabulate(sorted_degree_centrality[:10], headers=['Node', 'Degree Centrality']))"
   ]
  },
  {
   "cell_type": "code",
   "execution_count": 33,
   "metadata": {},
   "outputs": [],
   "source": [
    "# find communities in graph and see how long it takes\n",
    "%time communities = nxcom.greedy_modularity_communities(G_TWITCH)"
   ]
  },
  {
   "cell_type": "code",
   "execution_count": null,
   "metadata": {},
   "outputs": [],
   "source": [
    "# possible speed up? \n",
    "\n",
    "https://medium.com/rapids-ai/rapids-cugraph-networkx-compatibility-d119e417557c "
   ]
  },
  {
   "cell_type": "code",
   "execution_count": null,
   "metadata": {},
   "outputs": [],
   "source": [
    "nx.set_node_attributes ?  based on large_twitch_features? \n",
    "\n",
    "\n",
    "\n",
    "\n",
    "# read csv as pandas dataframe\n",
    "df_twitch_features = pd.read_csv('dataset//large_twitch_features.csv', \n",
    "                                    header=0,\n",
    "                                    dtype={\"A\":int, \"B\":\"string\", \"C\":\"category\"})\n",
    "                                    # dtype date\n",
    "                                \n",
    "# views,mature,life_time, created_at, updated_at, numeric_id, dead_account,   language,   affiliate\n",
    "# 7879,1,969, 2016-02-16, 2018-10-12, 0,0,    EN  ,   1\n",
    "\n",
    "# headers = ['col1', 'col2', 'col3', 'col4']\n",
    "# dtypes = {'col1': 'str', 'col2': 'str', 'col3': 'str', 'col4': 'float'}\n",
    "# parse_dates = ['col1', 'col2']\n",
    "# pd.read_csv(file, sep='\\t', header=None, names=headers, dtype=dtypes, parse_dates=parse_dates)\n",
    "\n",
    "\n"
   ]
  }
 ],
 "metadata": {
  "kernelspec": {
   "display_name": "Python 3.8.13 ('DL')",
   "language": "python",
   "name": "python3"
  },
  "language_info": {
   "codemirror_mode": {
    "name": "ipython",
    "version": 3
   },
   "file_extension": ".py",
   "mimetype": "text/x-python",
   "name": "python",
   "nbconvert_exporter": "python",
   "pygments_lexer": "ipython3",
   "version": "3.8.13"
  },
  "orig_nbformat": 4,
  "vscode": {
   "interpreter": {
    "hash": "a7470ae86e57d468cb848d5b5b62a40a84e08338f855f2d63a3dbd376099e19e"
   }
  }
 },
 "nbformat": 4,
 "nbformat_minor": 2
}
